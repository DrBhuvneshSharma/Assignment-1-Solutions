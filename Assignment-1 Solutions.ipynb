{
 "cells": [
  {
   "cell_type": "markdown",
   "id": "a58a3abf",
   "metadata": {},
   "source": [
    "Ans.1. \n",
    "Values:\n",
    "'hello'\n",
    "-87.8\n",
    "6\n",
    "Expression:\n",
    "*\n",
    "-\n",
    "/\n",
    "+"
   ]
  },
  {
   "cell_type": "markdown",
   "id": "5046dbce",
   "metadata": {},
   "source": [
    "Ans.2.\n",
    "String vs Variable\n",
    "Variable: it's a store of a values or information . it means any values can be stored by taking a variable, for ex: a= 25 or a= 'once upon a time'. Here, 'a' is the variable.\n",
    "String: It is just one type of values. in general, group of letters are used to represent a string. for ex: 'once upon a time' is a string.\n"
   ]
  },
  {
   "cell_type": "markdown",
   "id": "599db316",
   "metadata": {},
   "source": [
    "Ans.3 \n",
    "Data Type: the different types of data that can be assigned to a variable are called as data type. Data types:\n",
    "\n",
    "1.Integer: these are the data which are having fixed values and whole values in numeric characters. Ex:1,2,3,45 etc.\n",
    "\n",
    "2. Float: the data type where numerical values are present with decimals. Ex: 5.9, 52.33.\n",
    "\n",
    "3.Comples Numbers: This a data type where one part real and other part is imaginary in nature. Ex: 2-3j.\n",
    "\n",
    "4.String: In this data type group of letters/alphabets are used.Ex: 'ghghggh'.\n"
   ]
  },
  {
   "cell_type": "markdown",
   "id": "634a7a24",
   "metadata": {},
   "source": [
    "Ans.4.\n",
    "An expression is made up of variables, mathematical operators and values that yield a result \n",
    "\n",
    "In pythin,the interpreter evaluates the expression and displays the result.Ex: a = 4*6, finally here we are going to get a result. this whole is an expression.\n"
   ]
  },
  {
   "cell_type": "markdown",
   "id": "05817916",
   "metadata": {},
   "source": [
    "Ans.5 \n",
    "An expression a made up of variables, operators and values that yield a result.\n",
    "Statement is just a command that is executed by the interpreter.Ex: Print(), type()."
   ]
  },
  {
   "cell_type": "code",
   "execution_count": 1,
   "id": "94e44563",
   "metadata": {},
   "outputs": [
    {
     "data": {
      "text/plain": [
       "23"
      ]
     },
     "execution_count": 1,
     "metadata": {},
     "output_type": "execute_result"
    }
   ],
   "source": [
    "bacon=22\n",
    "bacon+1"
   ]
  },
  {
   "cell_type": "markdown",
   "id": "a3fb8151",
   "metadata": {},
   "source": [
    "Ans.6\n",
    " the output will be 23"
   ]
  },
  {
   "cell_type": "markdown",
   "id": "b1b53595",
   "metadata": {},
   "source": [
    "Ans.7.\n",
    "we know that a string can be added to another string also if we multiply a string with some numerical value the result will be the string repasting itself number of times the numerical value."
   ]
  },
  {
   "cell_type": "code",
   "execution_count": 2,
   "id": "114f204e",
   "metadata": {},
   "outputs": [
    {
     "data": {
      "text/plain": [
       "'spamspamspam'"
      ]
     },
     "execution_count": 2,
     "metadata": {},
     "output_type": "execute_result"
    }
   ],
   "source": [
    "'spam'+ 'spamspam' \n"
   ]
  },
  {
   "cell_type": "code",
   "execution_count": 3,
   "id": "a3954300",
   "metadata": {},
   "outputs": [
    {
     "data": {
      "text/plain": [
       "'spamspamspam'"
      ]
     },
     "execution_count": 3,
     "metadata": {},
     "output_type": "execute_result"
    }
   ],
   "source": [
    "'spam'*3 "
   ]
  },
  {
   "cell_type": "markdown",
   "id": "5320dca9",
   "metadata": {},
   "source": [
    "Ans.8\n",
    "An integer can not be used as a variable as it is fixed in numerical value, only a string can be used like a variable in python. so, if we use 100 as a varible it will result into an error while using 'eggs' as a varible will remain valid and error free."
   ]
  },
  {
   "cell_type": "markdown",
   "id": "1ed04f33",
   "metadata": {},
   "source": [
    "Ans.9\n",
    "In python, int() function will get integer, float() will get float-point number and str() will get the value ofstring."
   ]
  },
  {
   "cell_type": "markdown",
   "id": "50df6d6c",
   "metadata": {},
   "source": [
    "Ans.10.\n",
    "we know that only string can be added to a string and integer to and integer. In question 10, 'I have eaten' and 'burritos' are string data type while 99 is integer. thats why it shows error. if we want to concatenate then we need to typecast it."
   ]
  },
  {
   "cell_type": "markdown",
   "id": "a66abbd1",
   "metadata": {},
   "source": [
    "'I have eaten ' + 99 + ' burritos'"
   ]
  },
  {
   "cell_type": "code",
   "execution_count": 19,
   "id": "a8b69e40",
   "metadata": {},
   "outputs": [],
   "source": [
    "a='99'\n"
   ]
  },
  {
   "cell_type": "code",
   "execution_count": 22,
   "id": "7c300280",
   "metadata": {},
   "outputs": [
    {
     "data": {
      "text/plain": [
       "'I have eaten99burritos'"
      ]
     },
     "execution_count": 22,
     "metadata": {},
     "output_type": "execute_result"
    }
   ],
   "source": [
    "'I have eaten'+a+ 'burritos'"
   ]
  },
  {
   "cell_type": "code",
   "execution_count": null,
   "id": "e068fccf",
   "metadata": {},
   "outputs": [],
   "source": []
  }
 ],
 "metadata": {
  "kernelspec": {
   "display_name": "Python 3 (ipykernel)",
   "language": "python",
   "name": "python3"
  },
  "language_info": {
   "codemirror_mode": {
    "name": "ipython",
    "version": 3
   },
   "file_extension": ".py",
   "mimetype": "text/x-python",
   "name": "python",
   "nbconvert_exporter": "python",
   "pygments_lexer": "ipython3",
   "version": "3.9.7"
  }
 },
 "nbformat": 4,
 "nbformat_minor": 5
}
